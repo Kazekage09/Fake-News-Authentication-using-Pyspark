{
  "cells": [
    {
      "cell_type": "code",
      "execution_count": null,
      "metadata": {
        "colab": {
          "base_uri": "https://localhost:8080/"
        },
        "id": "hisPYtHAMKtr",
        "outputId": "797fee6f-0c85-4ea4-f6f8-740f11925377"
      },
      "outputs": [
        {
          "output_type": "stream",
          "name": "stdout",
          "text": [
            "Looking in indexes: https://pypi.org/simple, https://us-python.pkg.dev/colab-wheels/public/simple/\n",
            "Collecting pyspark\n",
            "  Downloading pyspark-3.3.2.tar.gz (281.4 MB)\n",
            "\u001b[2K     \u001b[90m━━━━━━━━━━━━━━━━━━━━━━━━━━━━━━━━━━━━━━━\u001b[0m \u001b[32m281.4/281.4 MB\u001b[0m \u001b[31m1.9 MB/s\u001b[0m eta \u001b[36m0:00:00\u001b[0m\n",
            "\u001b[?25h  Preparing metadata (setup.py) ... \u001b[?25l\u001b[?25hdone\n",
            "Collecting py4j\n",
            "  Downloading py4j-0.10.9.7-py2.py3-none-any.whl (200 kB)\n",
            "\u001b[2K     \u001b[90m━━━━━━━━━━━━━━━━━━━━━━━━━━━━━━━━━━━━━━━\u001b[0m \u001b[32m200.5/200.5 KB\u001b[0m \u001b[31m5.9 MB/s\u001b[0m eta \u001b[36m0:00:00\u001b[0m\n",
            "\u001b[?25h  Downloading py4j-0.10.9.5-py2.py3-none-any.whl (199 kB)\n",
            "\u001b[2K     \u001b[90m━━━━━━━━━━━━━━━━━━━━━━━━━━━━━━━━━━━━━━━\u001b[0m \u001b[32m199.7/199.7 KB\u001b[0m \u001b[31m9.0 MB/s\u001b[0m eta \u001b[36m0:00:00\u001b[0m\n",
            "\u001b[?25hBuilding wheels for collected packages: pyspark\n",
            "  Building wheel for pyspark (setup.py) ... \u001b[?25l\u001b[?25hdone\n",
            "  Created wheel for pyspark: filename=pyspark-3.3.2-py2.py3-none-any.whl size=281824025 sha256=c287cf564dab8ed59cd09c696540322ac977ba781134fa123a5825a8cfc57d82\n",
            "  Stored in directory: /root/.cache/pip/wheels/b1/59/a0/a1a0624b5e865fd389919c1a10f53aec9b12195d6747710baf\n",
            "Successfully built pyspark\n",
            "Installing collected packages: py4j, pyspark\n",
            "Successfully installed py4j-0.10.9.5 pyspark-3.3.2\n"
          ]
        }
      ],
      "source": [
        "!pip install pyspark py4j "
      ]
    },
    {
      "cell_type": "code",
      "execution_count": null,
      "metadata": {
        "id": "O2cXA5I4u6Z8"
      },
      "outputs": [],
      "source": [
        "import pandas as pd\n",
        "import random\n",
        "import warnings\n",
        "warnings.filterwarnings(\"ignore\")"
      ]
    },
    {
      "cell_type": "code",
      "execution_count": null,
      "metadata": {
        "colab": {
          "base_uri": "https://localhost:8080/"
        },
        "id": "8Tbw1GRaMp1h",
        "outputId": "23659ad2-cbb7-4b8f-dd00-dd869df503cb"
      },
      "outputs": [
        {
          "output_type": "stream",
          "name": "stdout",
          "text": [
            "Mounted at /content/drive\n"
          ]
        }
      ],
      "source": [
        "from google.colab import drive\n",
        "drive.mount('/content/drive')"
      ]
    },
    {
      "cell_type": "code",
      "execution_count": null,
      "metadata": {
        "id": "8kHC5ZBYtFWP"
      },
      "outputs": [],
      "source": [
        "from pyspark.sql import SparkSession\n",
        "\n",
        "spark = SparkSession.builder \\\n",
        "    .appName(\"my_app_name\") \\\n",
        "    .config(\"spark.driver.memory\", \"8g\") \\\n",
        "    .config(\"spark.executor.memory\", \"8g\") \\\n",
        "    .getOrCreate()"
      ]
    },
    {
      "cell_type": "code",
      "execution_count": null,
      "metadata": {
        "id": "lAJz0O_mMqiB"
      },
      "outputs": [],
      "source": [
        "df_fake = spark.read.format(\"csv\").load(\"/content/drive/MyDrive/Project (1)/Fake.csv\",header = True,inferSchema=True)"
      ]
    },
    {
      "cell_type": "code",
      "execution_count": null,
      "metadata": {
        "colab": {
          "base_uri": "https://localhost:8080/"
        },
        "id": "SjqnawVAezSz",
        "outputId": "808e77ff-09d9-4a47-d574-6dd0b7edaa3d"
      },
      "outputs": [
        {
          "output_type": "stream",
          "name": "stdout",
          "text": [
            "+--------------------+--------------------+-----+\n",
            "|               title|                text|label|\n",
            "+--------------------+--------------------+-----+\n",
            "| Donald Trump Sen...|Donald Trump just...|    1|\n",
            "| Drunk Bragging T...|House Intelligenc...|    1|\n",
            "| Sheriff David Cl...|On Friday, it was...|    1|\n",
            "| Trump Is So Obse...|On Christmas day,...|    1|\n",
            "| Pope Francis Jus...|Pope Francis used...|    1|\n",
            "+--------------------+--------------------+-----+\n",
            "only showing top 5 rows\n",
            "\n"
          ]
        }
      ],
      "source": [
        "# Add new constanct column\n",
        "from pyspark.sql.functions import lit\n",
        "df_fake = df_fake.withColumn(\"label\", lit(1))\n",
        "df_fake = df_fake.drop('subject','date')\n",
        "df_fake.show(5)"
      ]
    },
    {
      "cell_type": "code",
      "execution_count": null,
      "metadata": {
        "id": "LOUmF1tade3U"
      },
      "outputs": [],
      "source": [
        "df_true = spark.read.format(\"csv\").load(\"/content/drive/MyDrive/Project (1)/True.csv\",header = True,inferSchema=True)"
      ]
    },
    {
      "cell_type": "code",
      "execution_count": null,
      "metadata": {
        "colab": {
          "base_uri": "https://localhost:8080/"
        },
        "id": "L2QR7GMeeW_r",
        "outputId": "b41545da-6ae6-48a4-cae5-bf5cc0ccacfc"
      },
      "outputs": [
        {
          "output_type": "stream",
          "name": "stdout",
          "text": [
            "+--------------------+--------------------+-----+\n",
            "|               title|                text|label|\n",
            "+--------------------+--------------------+-----+\n",
            "|As U.S. budget fi...|WASHINGTON (Reute...|    0|\n",
            "|U.S. military to ...|WASHINGTON (Reute...|    0|\n",
            "|Senior U.S. Repub...|WASHINGTON (Reute...|    0|\n",
            "|FBI Russia probe ...|WASHINGTON (Reute...|    0|\n",
            "|Trump wants Posta...|SEATTLE/WASHINGTO...|    0|\n",
            "+--------------------+--------------------+-----+\n",
            "only showing top 5 rows\n",
            "\n"
          ]
        }
      ],
      "source": [
        "# Add new constanct column\n",
        "from pyspark.sql.functions import lit\n",
        "df_true = df_true.withColumn(\"label\", lit(0))\n",
        "df_true = df_true.drop('subject','date')\n",
        "df_true.show(5)"
      ]
    },
    {
      "cell_type": "code",
      "execution_count": null,
      "metadata": {
        "colab": {
          "base_uri": "https://localhost:8080/"
        },
        "id": "nts78da7cVaa",
        "outputId": "996f3da9-a9db-4aa0-97d8-3afc384029c9"
      },
      "outputs": [
        {
          "output_type": "stream",
          "name": "stdout",
          "text": [
            "+--------------------+--------------------+-----+\n",
            "|               title|                text|label|\n",
            "+--------------------+--------------------+-----+\n",
            "|LAW ENFORCEMENT O...|No comment is exp...|    1|\n",
            "|UNBELIEVABLE! OBA...| Now, most of the...|    1|\n",
            "|Bobby Jindal, rai...|A dozen political...|    0|\n",
            "|SATAN 2: Russia u...|The RS-28 Sarmat ...|    1|\n",
            "|About Time! Chris...|All we can say on...|    1|\n",
            "+--------------------+--------------------+-----+\n",
            "only showing top 5 rows\n",
            "\n"
          ]
        }
      ],
      "source": [
        "df_IEEE = pd.read_csv('/content/drive/MyDrive/Project/Deployment/new_data.csv',index_col=(0))\n",
        "df_IEEE = spark.createDataFrame(df_IEEE)\n",
        "df_IEEE.show(5)"
      ]
    },
    {
      "cell_type": "code",
      "execution_count": null,
      "metadata": {
        "id": "CU-z0LFMd-LE"
      },
      "outputs": [],
      "source": []
    },
    {
      "cell_type": "code",
      "execution_count": null,
      "metadata": {
        "colab": {
          "base_uri": "https://localhost:8080/"
        },
        "id": "6L1Jqu7GfKPj",
        "outputId": "8c8595bf-e658-4906-ac8e-1d8e23adfec9"
      },
      "outputs": [
        {
          "output_type": "execute_result",
          "data": {
            "text/plain": [
              "(pyspark.sql.dataframe.DataFrame, pyspark.sql.dataframe.DataFrame)"
            ]
          },
          "metadata": {},
          "execution_count": 10
        }
      ],
      "source": [
        "type(df_fake),type(df_true)"
      ]
    },
    {
      "cell_type": "markdown",
      "metadata": {
        "id": "harElNBlAz9I"
      },
      "source": [
        "Merging *df_fake,df_true* Dataframes"
      ]
    },
    {
      "cell_type": "code",
      "execution_count": null,
      "metadata": {
        "id": "xerCaGvhSLM-"
      },
      "outputs": [],
      "source": [
        "import functools\n",
        "from functools import reduce\n",
        "from pyspark.sql import DataFrame"
      ]
    },
    {
      "cell_type": "code",
      "execution_count": null,
      "metadata": {
        "id": "pC0bBnPlfRZz"
      },
      "outputs": [],
      "source": [
        "def merging_dataframes(*dfs):\n",
        "    return reduce(DataFrame.unionAll, dfs)     \n",
        " "
      ]
    },
    {
      "cell_type": "code",
      "execution_count": null,
      "metadata": {
        "id": "JQePjiQ4gec8"
      },
      "outputs": [],
      "source": [
        "df = merging_dataframes(df_IEEE,df_true,df_fake)"
      ]
    },
    {
      "cell_type": "code",
      "execution_count": null,
      "metadata": {
        "colab": {
          "base_uri": "https://localhost:8080/"
        },
        "id": "XJysSNNXgoPi",
        "outputId": "4244d9f7-0a0e-4e23-c69e-2aedaa51f702"
      },
      "outputs": [
        {
          "output_type": "stream",
          "name": "stdout",
          "text": [
            "+--------------------+--------------------+-----+\n",
            "|               title|                text|label|\n",
            "+--------------------+--------------------+-----+\n",
            "|LAW ENFORCEMENT O...|No comment is exp...|    1|\n",
            "|UNBELIEVABLE! OBA...| Now, most of the...|    1|\n",
            "|Bobby Jindal, rai...|A dozen political...|    0|\n",
            "|SATAN 2: Russia u...|The RS-28 Sarmat ...|    1|\n",
            "|About Time! Chris...|All we can say on...|    1|\n",
            "+--------------------+--------------------+-----+\n",
            "only showing top 5 rows\n",
            "\n"
          ]
        }
      ],
      "source": [
        "df.show(5)"
      ]
    },
    {
      "cell_type": "markdown",
      "metadata": {
        "id": "ur7ag0_ykBFA"
      },
      "source": [
        "Checking the data by using temporary View"
      ]
    },
    {
      "cell_type": "code",
      "execution_count": null,
      "metadata": {
        "id": "nIgG_K27jvSA"
      },
      "outputs": [],
      "source": [
        "df.createOrReplaceTempView(\"dataframe\")"
      ]
    },
    {
      "cell_type": "code",
      "execution_count": null,
      "metadata": {
        "id": "dlmRcnIYjh9I"
      },
      "outputs": [],
      "source": [
        "dataframe = spark.sql('select label,count(label) as No_of_fake_or_true_news from dataframe group by label')"
      ]
    },
    {
      "cell_type": "code",
      "execution_count": null,
      "metadata": {
        "colab": {
          "base_uri": "https://localhost:8080/"
        },
        "id": "SorS9oArSqF7",
        "outputId": "f04d09f7-cfce-45bf-f384-04458d8c8bd7"
      },
      "outputs": [
        {
          "output_type": "stream",
          "name": "stdout",
          "text": [
            "+-----+-----------------------+\n",
            "|label|No_of_fake_or_true_news|\n",
            "+-----+-----------------------+\n",
            "|    0|                  48799|\n",
            "|    1|                  52019|\n",
            "+-----+-----------------------+\n",
            "\n"
          ]
        }
      ],
      "source": [
        "dataframe.show()"
      ]
    },
    {
      "cell_type": "code",
      "execution_count": null,
      "metadata": {
        "id": "7Dg3RxPMdyTy"
      },
      "outputs": [],
      "source": [
        "numbers = dataframe.to_pandas_on_spark()['No_of_fake_or_true_news'].to_numpy()"
      ]
    },
    {
      "cell_type": "code",
      "execution_count": null,
      "metadata": {
        "colab": {
          "base_uri": "https://localhost:8080/"
        },
        "id": "gb3elgvofPxR",
        "outputId": "dc52f6ac-731f-43cf-85bd-e8df28744a7b"
      },
      "outputs": [
        {
          "output_type": "stream",
          "name": "stdout",
          "text": [
            "[48799 52019]\n"
          ]
        }
      ],
      "source": [
        "print(numbers)"
      ]
    },
    {
      "cell_type": "markdown",
      "metadata": {
        "id": "DqRE_QQMfZiJ"
      },
      "source": [
        "This means that there are 48799 True news and 52019 Fake News"
      ]
    },
    {
      "cell_type": "code",
      "execution_count": null,
      "metadata": {
        "id": "NFjbke_OgbLa"
      },
      "outputs": [],
      "source": [
        "import matplotlib.pyplot as plt"
      ]
    },
    {
      "cell_type": "code",
      "execution_count": null,
      "metadata": {
        "id": "vQU58CBPhAeB"
      },
      "outputs": [],
      "source": [
        "news = ['True','Fake']"
      ]
    },
    {
      "cell_type": "code",
      "execution_count": null,
      "metadata": {
        "colab": {
          "base_uri": "https://localhost:8080/",
          "height": 427
        },
        "id": "TS0hUyoWgfbC",
        "outputId": "0aaac59f-cb1d-4fe8-a84a-8225e880251b"
      },
      "outputs": [
        {
          "output_type": "display_data",
          "data": {
            "text/plain": [
              "<Figure size 720x504 with 1 Axes>"
            ],
            "image/png": "[encoded data removed]"
          },
          "metadata": {}
        }
      ],
      "source": [
        "fig = plt.figure(figsize =(10, 7))\n",
        "plt.pie(numbers,labels=news, startangle=90, shadow=True,explode=(0.1, 0.1), autopct='%1.2f%%')\n",
        "plt.title('Fake True Dataset')\n",
        "plt.axis('equal')\n",
        "plt.show()\n"
      ]
    },
    {
      "cell_type": "code",
      "execution_count": null,
      "metadata": {
        "id": "7Kxtux7JibXh"
      },
      "outputs": [],
      "source": [
        "#from pyspark.sql.functions import concat"
      ]
    },
    {
      "cell_type": "code",
      "execution_count": null,
      "metadata": {
        "colab": {
          "base_uri": "https://localhost:8080/"
        },
        "id": "nwkdmwEVzWbd",
        "outputId": "ceca6bad-2dff-4a70-f2c5-4034f9867eac"
      },
      "outputs": [
        {
          "output_type": "stream",
          "name": "stdout",
          "text": [
            "+--------------------+-----+\n",
            "|                News|label|\n",
            "+--------------------+-----+\n",
            "|No comment is exp...|    1|\n",
            "| Now, most of the...|    1|\n",
            "|A dozen political...|    0|\n",
            "|The RS-28 Sarmat ...|    1|\n",
            "|All we can say on...|    1|\n",
            "+--------------------+-----+\n",
            "only showing top 5 rows\n",
            "\n"
          ]
        }
      ],
      "source": [
        "df = spark.sql(\"select text as News , label from dataframe\")\n",
        "df.show(5)"
      ]
    },
    {
      "cell_type": "code",
      "execution_count": null,
      "metadata": {
        "colab": {
          "base_uri": "https://localhost:8080/"
        },
        "id": "sd9QBmfaCLgA",
        "outputId": "2e0dd1ae-9478-423f-bc20-422490264ec4"
      },
      "outputs": [
        {
          "output_type": "execute_result",
          "data": {
            "text/plain": [
              "pyspark.sql.dataframe.DataFrame"
            ]
          },
          "metadata": {},
          "execution_count": 25
        }
      ],
      "source": [
        "type(df)"
      ]
    },
    {
      "cell_type": "code",
      "execution_count": null,
      "metadata": {
        "colab": {
          "base_uri": "https://localhost:8080/"
        },
        "id": "CwRRy0A9AHQ8",
        "outputId": "1b687460-d6ce-4a11-c37f-5d338688c97e"
      },
      "outputs": [
        {
          "output_type": "execute_result",
          "data": {
            "text/plain": [
              "[('News', 'string'), ('label', 'bigint')]"
            ]
          },
          "metadata": {},
          "execution_count": 26
        }
      ],
      "source": [
        "df.dtypes"
      ]
    },
    {
      "cell_type": "code",
      "execution_count": null,
      "metadata": {
        "id": "QGOiAbO1B5xh"
      },
      "outputs": [],
      "source": []
    },
    {
      "cell_type": "markdown",
      "metadata": {
        "id": "62Xu35Rz0ean"
      },
      "source": [
        "For Deleting null values\n"
      ]
    },
    {
      "cell_type": "code",
      "execution_count": null,
      "metadata": {
        "id": "txIVd3YsAcwr"
      },
      "outputs": [],
      "source": [
        "from pyspark.sql.functions import concat_ws\n"
      ]
    },
    {
      "cell_type": "code",
      "execution_count": null,
      "metadata": {
        "id": "imwSXo4rAeaD"
      },
      "outputs": [],
      "source": [
        "df = df.withColumn('News_string', concat_ws(',', 'News'))\n",
        "df = df.drop('News')"
      ]
    },
    {
      "cell_type": "code",
      "execution_count": null,
      "metadata": {
        "colab": {
          "base_uri": "https://localhost:8080/"
        },
        "id": "lsiYlLibAeNb",
        "outputId": "0490cf63-84ac-468b-91c5-b09a7ccf9f6c"
      },
      "outputs": [
        {
          "output_type": "stream",
          "name": "stdout",
          "text": [
            "+-----+--------------------+\n",
            "|label|         News_string|\n",
            "+-----+--------------------+\n",
            "|    1|No comment is exp...|\n",
            "|    1| Now, most of the...|\n",
            "|    0|A dozen political...|\n",
            "|    1|The RS-28 Sarmat ...|\n",
            "|    1|All we can say on...|\n",
            "+-----+--------------------+\n",
            "only showing top 5 rows\n",
            "\n"
          ]
        }
      ],
      "source": [
        "df.show(5)"
      ]
    },
    {
      "cell_type": "code",
      "execution_count": null,
      "metadata": {
        "colab": {
          "base_uri": "https://localhost:8080/"
        },
        "id": "YV950lQlBzTy",
        "outputId": "a1ba6339-d564-4918-cb3f-0bb436eb1b5b"
      },
      "outputs": [
        {
          "output_type": "execute_result",
          "data": {
            "text/plain": [
              "[('label', 'bigint'), ('News_string', 'string')]"
            ]
          },
          "metadata": {},
          "execution_count": 30
        }
      ],
      "source": [
        "df.dtypes"
      ]
    },
    {
      "cell_type": "code",
      "execution_count": null,
      "metadata": {
        "id": "2i4h-2AKBzRK"
      },
      "outputs": [],
      "source": [
        "from pyspark.sql.functions import split\n",
        "from pyspark.ml.feature import Tokenizer, StopWordsRemover, Word2Vec\n",
        "from pyspark.ml.linalg import Vector"
      ]
    },
    {
      "cell_type": "markdown",
      "metadata": {
        "id": "fDjiIUOPmeYD"
      },
      "source": [
        "Converting string into array of words = Tokenization"
      ]
    },
    {
      "cell_type": "code",
      "execution_count": null,
      "metadata": {
        "id": "paPYL4JCgIJB"
      },
      "outputs": [],
      "source": [
        "# Tokenize the text column\n",
        "tokenizer = Tokenizer(inputCol=\"News_string\", outputCol=\"words\")\n",
        "df = tokenizer.transform(df)\n"
      ]
    },
    {
      "cell_type": "code",
      "execution_count": null,
      "metadata": {
        "colab": {
          "base_uri": "https://localhost:8080/"
        },
        "id": "7dk2HcpImXh0",
        "outputId": "9a5bbc9e-ab8e-4ea9-cb10-05f3ad09a474"
      },
      "outputs": [
        {
          "output_type": "stream",
          "name": "stdout",
          "text": [
            "+-----+--------------------+\n",
            "|label|               words|\n",
            "+-----+--------------------+\n",
            "|    1|[no, comment, is,...|\n",
            "|    1|[, now,, most, of...|\n",
            "|    0|[a, dozen, politi...|\n",
            "|    1|[the, rs-28, sarm...|\n",
            "|    1|[all, we, can, sa...|\n",
            "+-----+--------------------+\n",
            "only showing top 5 rows\n",
            "\n"
          ]
        }
      ],
      "source": [
        "df = df.drop('News_string')\n",
        "df.show(5)"
      ]
    },
    {
      "cell_type": "code",
      "execution_count": null,
      "metadata": {
        "id": "ciRkcW1Vmxe7"
      },
      "outputs": [],
      "source": []
    },
    {
      "cell_type": "markdown",
      "metadata": {
        "id": "__K5xk5GBzzT"
      },
      "source": [
        "Removing Stop Words"
      ]
    },
    {
      "cell_type": "code",
      "execution_count": null,
      "metadata": {
        "colab": {
          "base_uri": "https://localhost:8080/"
        },
        "id": "CaoZX2whjmzl",
        "outputId": "332312c1-e2de-47be-d7a8-d5b23ed5a872"
      },
      "outputs": [
        {
          "output_type": "stream",
          "name": "stdout",
          "text": [
            "+-----+--------------------+--------------------+\n",
            "|label|               words|      filtered_words|\n",
            "+-----+--------------------+--------------------+\n",
            "|    1|[no, comment, is,...|[comment, expecte...|\n",
            "|    1|[, now,, most, of...|[, now,, demonstr...|\n",
            "|    0|[a, dozen, politi...|[dozen, political...|\n",
            "|    1|[the, rs-28, sarm...|[rs-28, sarmat, m...|\n",
            "|    1|[all, we, can, sa...|[say, one, time, ...|\n",
            "+-----+--------------------+--------------------+\n",
            "only showing top 5 rows\n",
            "\n"
          ]
        }
      ],
      "source": [
        "# Remove stop words\n",
        "stop_words = StopWordsRemover(inputCol=\"words\", outputCol=\"filtered_words\")\n",
        "df = stop_words.transform(df)\n",
        "df.show(5)\n"
      ]
    },
    {
      "cell_type": "code",
      "execution_count": null,
      "metadata": {
        "colab": {
          "base_uri": "https://localhost:8080/"
        },
        "id": "EkDOgtTWsFLf",
        "outputId": "209ea96e-ff76-4147-f57f-fc2f55b863ac"
      },
      "outputs": [
        {
          "output_type": "execute_result",
          "data": {
            "text/plain": [
              "[('label', 'bigint'),\n",
              " ('words', 'array<string>'),\n",
              " ('filtered_words', 'array<string>')]"
            ]
          },
          "metadata": {},
          "execution_count": 35
        }
      ],
      "source": [
        "df.dtypes"
      ]
    },
    {
      "cell_type": "markdown",
      "metadata": {
        "id": "_W084tx_PU5I"
      },
      "source": [
        "Checking for null values as i was getting java null pointer exception"
      ]
    },
    {
      "cell_type": "code",
      "execution_count": null,
      "metadata": {
        "colab": {
          "base_uri": "https://localhost:8080/"
        },
        "id": "p8pmzaquzhkq",
        "outputId": "7240fbd9-4433-4211-a935-e0292ed8750e"
      },
      "outputs": [
        {
          "output_type": "stream",
          "name": "stdout",
          "text": [
            "+-----+-----+--------------+\n",
            "|label|words|filtered_words|\n",
            "+-----+-----+--------------+\n",
            "+-----+-----+--------------+\n",
            "\n"
          ]
        }
      ],
      "source": [
        "from pyspark.sql.functions import isnull\n",
        "\n",
        "df.filter(isnull('filtered_words')).show()"
      ]
    },
    {
      "cell_type": "code",
      "execution_count": null,
      "metadata": {
        "id": "-9uJXpMXD2D-"
      },
      "outputs": [],
      "source": [
        "from pyspark.ml.feature import Word2Vec\n",
        "from pyspark.ml.linalg import Vectors"
      ]
    },
    {
      "cell_type": "code",
      "execution_count": null,
      "metadata": {
        "id": "g5xDHLdz4mln"
      },
      "outputs": [],
      "source": [
        "# Define the Word2Vec model\n",
        "word2Vec = Word2Vec(vectorSize=100, inputCol='filtered_words', outputCol='features')\n",
        "\n",
        "model = word2Vec.fit(df)\n",
        "df = model.transform(df)\n",
        "\n"
      ]
    },
    {
      "cell_type": "code",
      "execution_count": null,
      "metadata": {
        "id": "lRqdsUiIsLub"
      },
      "outputs": [],
      "source": [
        "#from pyspark.ml.feature import Word2VecModel\n"
      ]
    },
    {
      "cell_type": "markdown",
      "metadata": {
        "id": "Nt65r1FnHem7"
      },
      "source": [
        "the above code took around 14 minutes to run"
      ]
    },
    {
      "cell_type": "code",
      "execution_count": null,
      "metadata": {
        "id": "2SElgYiZr3IK"
      },
      "outputs": [],
      "source": []
    },
    {
      "cell_type": "code",
      "execution_count": null,
      "metadata": {
        "colab": {
          "base_uri": "https://localhost:8080/"
        },
        "id": "uP_ac9ZjHdl0",
        "outputId": "09a2ffa1-da5a-4715-8db6-c3fbf2469b06"
      },
      "outputs": [
        {
          "output_type": "stream",
          "name": "stdout",
          "text": [
            "+-----+--------------------+--------------------+--------------------+\n",
            "|label|               words|      filtered_words|            features|\n",
            "+-----+--------------------+--------------------+--------------------+\n",
            "|    1|[no, comment, is,...|[comment, expecte...|[-0.0097076267196...|\n",
            "|    1|[, now,, most, of...|[, now,, demonstr...|[-0.0547487402442...|\n",
            "|    0|[a, dozen, politi...|[dozen, political...|[-0.0241243856184...|\n",
            "|    1|[the, rs-28, sarm...|[rs-28, sarmat, m...|[-0.0622058694057...|\n",
            "|    1|[all, we, can, sa...|[say, one, time, ...|[-0.0234354787581...|\n",
            "+-----+--------------------+--------------------+--------------------+\n",
            "only showing top 5 rows\n",
            "\n"
          ]
        }
      ],
      "source": [
        "df.show(5)"
      ]
    },
    {
      "cell_type": "code",
      "execution_count": null,
      "metadata": {
        "colab": {
          "base_uri": "https://localhost:8080/"
        },
        "id": "TkWdIWBRbxAV",
        "outputId": "b2011099-6039-4582-edd3-170b6793e7e3"
      },
      "outputs": [
        {
          "output_type": "stream",
          "name": "stdout",
          "text": [
            "+-----+--------------------+\n",
            "|label|            features|\n",
            "+-----+--------------------+\n",
            "|    1|[-0.0097076267196...|\n",
            "|    1|[-0.0547487402442...|\n",
            "|    0|[-0.0241243856184...|\n",
            "|    1|[-0.0622058694057...|\n",
            "|    1|[-0.0234354787581...|\n",
            "+-----+--------------------+\n",
            "only showing top 5 rows\n",
            "\n"
          ]
        }
      ],
      "source": [
        "df = df.drop('words','filtered_words')\n",
        "df.show(5)"
      ]
    },
    {
      "cell_type": "markdown",
      "metadata": {
        "id": "lUcekaECDMdN"
      },
      "source": [
        "If needed below method can also be used to get feature and response variables."
      ]
    },
    {
      "cell_type": "code",
      "execution_count": null,
      "metadata": {
        "id": "5ViLGjS8HtwL"
      },
      "outputs": [],
      "source": [
        "X = df.select('features')\n",
        "y = df.select('label')"
      ]
    },
    {
      "cell_type": "code",
      "execution_count": null,
      "metadata": {
        "colab": {
          "base_uri": "https://localhost:8080/"
        },
        "id": "5KOPrNjkIo2L",
        "outputId": "3b3aef43-825f-4147-afde-6a69ec19874f"
      },
      "outputs": [
        {
          "output_type": "execute_result",
          "data": {
            "text/plain": [
              "[('label', 'bigint'), ('features', 'vector')]"
            ]
          },
          "metadata": {},
          "execution_count": 43
        }
      ],
      "source": [
        "df.dtypes"
      ]
    },
    {
      "cell_type": "code",
      "execution_count": null,
      "metadata": {
        "colab": {
          "base_uri": "https://localhost:8080/"
        },
        "id": "KtFCmTagKLBq",
        "outputId": "250f203b-4cfb-4372-a035-35f7db8d4be3"
      },
      "outputs": [
        {
          "output_type": "execute_result",
          "data": {
            "text/plain": [
              "100818"
            ]
          },
          "metadata": {},
          "execution_count": 44
        }
      ],
      "source": [
        "df.count()"
      ]
    },
    {
      "cell_type": "code",
      "execution_count": null,
      "metadata": {
        "id": "azqpY5ogd-p0"
      },
      "outputs": [],
      "source": []
    },
    {
      "cell_type": "code",
      "execution_count": null,
      "metadata": {
        "id": "3ywfCH__d-Ob"
      },
      "outputs": [],
      "source": []
    },
    {
      "cell_type": "markdown",
      "metadata": {
        "id": "ztNil8-seAab"
      },
      "source": [
        "Machine Learning Models"
      ]
    },
    {
      "cell_type": "code",
      "execution_count": null,
      "metadata": {
        "id": "O3PxF9VLclpV"
      },
      "outputs": [],
      "source": [
        "from pyspark.ml.classification import LogisticRegression\n",
        "from pyspark.ml.tuning import ParamGridBuilder, TrainValidationSplit,CrossValidator"
      ]
    },
    {
      "cell_type": "code",
      "execution_count": null,
      "metadata": {
        "id": "XHhjBa9mVm-6"
      },
      "outputs": [],
      "source": [
        "from pyspark.ml.evaluation import BinaryClassificationEvaluator"
      ]
    },
    {
      "cell_type": "markdown",
      "metadata": {
        "id": "jVI_zuMfSsqc"
      },
      "source": [
        "Evaluator AUC Score"
      ]
    },
    {
      "cell_type": "code",
      "execution_count": null,
      "metadata": {
        "id": "va4wnGHfSjR9"
      },
      "outputs": [],
      "source": [
        "evaluator = BinaryClassificationEvaluator()\n"
      ]
    },
    {
      "cell_type": "code",
      "execution_count": null,
      "metadata": {
        "id": "Z-4fMhfSWFIZ"
      },
      "outputs": [],
      "source": [
        "train, test = df.randomSplit([0.8, 0.2], seed=12345)\n"
      ]
    },
    {
      "cell_type": "code",
      "execution_count": null,
      "metadata": {
        "id": "-BSvQr6K4Z2f"
      },
      "outputs": [],
      "source": []
    },
    {
      "cell_type": "markdown",
      "metadata": {
        "id": "iwZO2YrWn-PF"
      },
      "source": [
        "Logistic Regression"
      ]
    },
    {
      "cell_type": "code",
      "execution_count": null,
      "metadata": {
        "id": "tcRQjqThjQLw"
      },
      "outputs": [],
      "source": [
        "# Train a logistic regression model using the word vectors as input features\n",
        "lr = LogisticRegression(featuresCol=\"features\", labelCol=\"label\")"
      ]
    },
    {
      "cell_type": "code",
      "execution_count": null,
      "metadata": {
        "id": "_Nvi4qkC7KRW"
      },
      "outputs": [],
      "source": [
        "paramGrid = ParamGridBuilder() \\\n",
        "    .addGrid(lr.regParam, [0.0,0.1, 0.01]) \\\n",
        "    .build()"
      ]
    },
    {
      "cell_type": "code",
      "execution_count": null,
      "metadata": {
        "id": "5NTyuD5-7NOu"
      },
      "outputs": [],
      "source": [
        "crossval = CrossValidator(estimator=lr,\n",
        "                          estimatorParamMaps=paramGrid,\n",
        "                          evaluator=evaluator,\n",
        "                          numFolds=3\n",
        "                          )\n",
        "\n",
        "cvModel_lr = crossval.fit(train)"
      ]
    },
    {
      "cell_type": "code",
      "execution_count": null,
      "metadata": {
        "id": "zdS_c9JlPlcj"
      },
      "outputs": [],
      "source": [
        "predictions_lr = cvModel_lr.transform(test)"
      ]
    },
    {
      "cell_type": "code",
      "execution_count": null,
      "metadata": {
        "colab": {
          "base_uri": "https://localhost:8080/"
        },
        "id": "2a-cfo5vJh2x",
        "outputId": "f219b5d1-05e6-4bee-a9a1-ec173d5ee33d"
      },
      "outputs": [
        {
          "output_type": "execute_result",
          "data": {
            "text/plain": [
              "0.9881349207752821"
            ]
          },
          "metadata": {},
          "execution_count": 53
        }
      ],
      "source": [
        "auc_score_lr = evaluator.evaluate(predictions_lr)\n",
        "auc_score_lr"
      ]
    },
    {
      "cell_type": "code",
      "execution_count": null,
      "metadata": {
        "id": "1T0rodPupiur"
      },
      "outputs": [],
      "source": []
    },
    {
      "cell_type": "markdown",
      "metadata": {
        "id": "LHLX9wS4rlEa"
      },
      "source": [
        "We can't directly use accuracy while using binary classification so instead we can use this formula\n"
      ]
    },
    {
      "cell_type": "code",
      "execution_count": null,
      "metadata": {
        "colab": {
          "base_uri": "https://localhost:8080/"
        },
        "id": "r_t6TShapai0",
        "outputId": "582a9c09-ee50-4b7a-fdd6-87e576d47869"
      },
      "outputs": [
        {
          "output_type": "stream",
          "name": "stdout",
          "text": [
            "Accuracy :  0.9515697731999604\n"
          ]
        }
      ],
      "source": [
        "accuracy_lr = predictions_lr.filter(predictions_lr.label == predictions_lr.prediction).count() / float(predictions_lr.count())\n",
        "print(\"Accuracy : \",accuracy_lr)"
      ]
    },
    {
      "cell_type": "markdown",
      "metadata": {
        "id": "B1UKcZ7GqJMT"
      },
      "source": [
        "RandomForestClassifier"
      ]
    },
    {
      "cell_type": "code",
      "execution_count": null,
      "metadata": {
        "id": "Jlx0KgxnrNL0"
      },
      "outputs": [],
      "source": [
        "from pyspark.ml.classification import RandomForestClassifier\n"
      ]
    },
    {
      "cell_type": "code",
      "execution_count": null,
      "metadata": {
        "id": "4SvoR2foTePb"
      },
      "outputs": [],
      "source": []
    },
    {
      "cell_type": "code",
      "execution_count": null,
      "metadata": {
        "id": "5fUV_NeNTnUQ"
      },
      "outputs": [],
      "source": [
        "# Train a RandomForestClassifier model using the word vectors as input features\n",
        "rf = RandomForestClassifier(featuresCol='features', labelCol='label')"
      ]
    },
    {
      "cell_type": "code",
      "execution_count": null,
      "metadata": {
        "id": "lIBpFNvOTnUR"
      },
      "outputs": [],
      "source": [
        "paramGrid = ParamGridBuilder() \\\n",
        "    .addGrid(rf.maxDepth, [3,5,7]) \\\n",
        "    .build()"
      ]
    },
    {
      "cell_type": "code",
      "execution_count": null,
      "metadata": {
        "id": "mBkpWRu3TnUS"
      },
      "outputs": [],
      "source": [
        "crossval = CrossValidator(estimator=rf,\n",
        "                          estimatorParamMaps=paramGrid,\n",
        "                          evaluator=evaluator,\n",
        "                          numFolds=3\n",
        "                          )\n",
        "\n",
        "# Run cross-validation, and choose the best set of parameters.\n",
        "cvModel_rf = crossval.fit(train)"
      ]
    },
    {
      "cell_type": "code",
      "execution_count": null,
      "metadata": {
        "id": "x79ZeTL4TnUS"
      },
      "outputs": [],
      "source": [
        "predictions_rf = cvModel_rf.transform(test)"
      ]
    },
    {
      "cell_type": "code",
      "execution_count": null,
      "metadata": {
        "colab": {
          "base_uri": "https://localhost:8080/"
        },
        "id": "75tYkiQDX14G",
        "outputId": "f119ce27-240d-47f9-b2ed-4cbf8c4648f2"
      },
      "outputs": [
        {
          "output_type": "stream",
          "name": "stdout",
          "text": [
            "+-----+--------------------+--------------------+--------------------+----------+\n",
            "|label|            features|       rawPrediction|         probability|prediction|\n",
            "+-----+--------------------+--------------------+--------------------+----------+\n",
            "|    0|[-0.1371433560002...|[16.6684073825216...|[0.83342036912608...|       0.0|\n",
            "|    0|[-0.1092239692086...|[18.4674647347054...|[0.92337323673527...|       0.0|\n",
            "|    0|[-0.1083032864480...|[9.10323102066358...|[0.45516155103317...|       1.0|\n",
            "|    0|[-0.1036650367439...|[16.3077315905476...|[0.81538657952738...|       0.0|\n",
            "|    0|[-0.1011851922911...|[18.0840999489321...|[0.90420499744660...|       0.0|\n",
            "+-----+--------------------+--------------------+--------------------+----------+\n",
            "only showing top 5 rows\n",
            "\n"
          ]
        }
      ],
      "source": [
        "predictions_rf.show(5)"
      ]
    },
    {
      "cell_type": "code",
      "execution_count": null,
      "metadata": {
        "colab": {
          "base_uri": "https://localhost:8080/"
        },
        "id": "C68U-Z50Uog1",
        "outputId": "0ffa500a-b26f-4626-9b07-21cc43a25e7a"
      },
      "outputs": [
        {
          "output_type": "execute_result",
          "data": {
            "text/plain": [
              "0.9570326602268212"
            ]
          },
          "metadata": {},
          "execution_count": 61
        }
      ],
      "source": [
        "auc_score_rf = evaluator.evaluate(predictions_rf)\n",
        "auc_score_rf"
      ]
    },
    {
      "cell_type": "code",
      "execution_count": null,
      "metadata": {
        "colab": {
          "base_uri": "https://localhost:8080/"
        },
        "id": "nsaEFejRl4D_",
        "outputId": "084e4321-194f-442d-d76f-5e41695fa2b1"
      },
      "outputs": [
        {
          "output_type": "stream",
          "name": "stdout",
          "text": [
            "Accuracy :  0.8898187580469447\n"
          ]
        }
      ],
      "source": [
        "accuracy_rf = predictions_rf.filter(predictions_rf.label == predictions_rf.prediction).count() / float(predictions_rf.count())\n",
        "print(\"Accuracy : \",accuracy_rf)"
      ]
    },
    {
      "cell_type": "markdown",
      "metadata": {
        "id": "3xmiFkMyqSjU"
      },
      "source": [
        "GBTClassifier(Gradient-Boosted Trees)"
      ]
    },
    {
      "cell_type": "code",
      "execution_count": null,
      "metadata": {
        "id": "b3tdUDTIl_Hq"
      },
      "outputs": [],
      "source": [
        "from pyspark.ml.classification import GBTClassifier"
      ]
    },
    {
      "cell_type": "code",
      "execution_count": null,
      "metadata": {
        "id": "ZpCsMWOyXSgA"
      },
      "outputs": [],
      "source": [
        "# Train a GBTClassifier model using the word vectors as input features\n",
        "gbt = GBTClassifier(labelCol=\"label\", featuresCol=\"features\")\n"
      ]
    },
    {
      "cell_type": "code",
      "execution_count": null,
      "metadata": {
        "id": "Ag0C84Z9XSgB"
      },
      "outputs": [],
      "source": [
        "paramGrid = ParamGridBuilder() \\\n",
        "    .addGrid(gbt.maxIter, [5,10,20]) \\\n",
        "    .addGrid(gbt.maxDepth, [3,5,7]) \\\n",
        "    .build()"
      ]
    },
    {
      "cell_type": "code",
      "execution_count": null,
      "metadata": {
        "id": "tVROpYcrXSgC"
      },
      "outputs": [],
      "source": [
        "crossval = CrossValidator(estimator=gbt,\n",
        "                          estimatorParamMaps=paramGrid,\n",
        "                          evaluator=evaluator,\n",
        "                          numFolds=3\n",
        "                          )\n",
        "\n",
        "# Run cross-validation, and choose the best set of parameters.\n",
        "cvModel_gbt = crossval.fit(train)"
      ]
    },
    {
      "cell_type": "code",
      "execution_count": null,
      "metadata": {
        "id": "Pla2eXX9XSgC"
      },
      "outputs": [],
      "source": [
        "predictions_gbt = cvModel_gbt.transform(test)"
      ]
    },
    {
      "cell_type": "code",
      "execution_count": null,
      "metadata": {
        "colab": {
          "base_uri": "https://localhost:8080/"
        },
        "id": "Yv3hxLYDXSgD",
        "outputId": "d9bafb45-fbaa-474c-ff0d-5a697b393321"
      },
      "outputs": [
        {
          "output_type": "execute_result",
          "data": {
            "text/plain": [
              "0.9760034993521245"
            ]
          },
          "metadata": {},
          "execution_count": 68
        }
      ],
      "source": [
        "auc_score_gbt = evaluator.evaluate(predictions_gbt)\n",
        "auc_score_gbt"
      ]
    },
    {
      "cell_type": "code",
      "execution_count": null,
      "metadata": {
        "colab": {
          "base_uri": "https://localhost:8080/"
        },
        "id": "X_h1bju0XSgD",
        "outputId": "dc39e4e3-9f1e-428c-ef1f-ef0477510c6c"
      },
      "outputs": [
        {
          "output_type": "stream",
          "name": "stdout",
          "text": [
            "Accuracy :  0.9129939586015648\n"
          ]
        }
      ],
      "source": [
        "accuracy_gbt = predictions_gbt.filter(predictions_gbt.label == predictions_gbt.prediction).count() / float(predictions_gbt.count())\n",
        "print(\"Accuracy : \",accuracy_gbt)"
      ]
    },
    {
      "cell_type": "markdown",
      "metadata": {
        "id": "qPlC5klVTjny"
      },
      "source": [
        "Linear Support Vector Machine"
      ]
    },
    {
      "cell_type": "code",
      "execution_count": null,
      "metadata": {
        "id": "OnOkKdaXQ5ui"
      },
      "outputs": [],
      "source": [
        "from pyspark.ml.classification import LinearSVC\n",
        "\n",
        "lsvc = LinearSVC(maxIter=10, regParam=0.1)\n",
        "\n",
        "# Fit the model\n",
        "lsvcModel = lsvc.fit(train)"
      ]
    },
    {
      "cell_type": "code",
      "execution_count": null,
      "metadata": {
        "colab": {
          "base_uri": "https://localhost:8080/"
        },
        "id": "jWXkfg-hSV7K",
        "outputId": "e37d096a-435c-4ecc-f67c-e53b514e8761"
      },
      "outputs": [
        {
          "output_type": "stream",
          "name": "stdout",
          "text": [
            "+-----+--------------------+--------------------+----------+\n",
            "|label|            features|       rawPrediction|prediction|\n",
            "+-----+--------------------+--------------------+----------+\n",
            "|    0|[-0.1371433560002...|[2.75718516643774...|       0.0|\n",
            "|    0|[-0.1092239692086...|[2.08530144669273...|       0.0|\n",
            "|    0|[-0.1083032864480...|[-0.1462797930916...|       1.0|\n",
            "|    0|[-0.1036650367439...|[1.80823344588825...|       0.0|\n",
            "|    0|[-0.1011851922911...|[1.71753529894742...|       0.0|\n",
            "+-----+--------------------+--------------------+----------+\n",
            "only showing top 5 rows\n",
            "\n"
          ]
        }
      ],
      "source": [
        "predictions_lsvc = lsvcModel.transform(test)\n",
        "predictions_lsvc.show(5)"
      ]
    },
    {
      "cell_type": "code",
      "execution_count": null,
      "metadata": {
        "colab": {
          "base_uri": "https://localhost:8080/"
        },
        "id": "4K42NQvJSctq",
        "outputId": "bcfd8da1-060e-4fae-d1d6-1a19ed66827e"
      },
      "outputs": [
        {
          "output_type": "execute_result",
          "data": {
            "text/plain": [
              "0.9800935685649396"
            ]
          },
          "metadata": {},
          "execution_count": 72
        }
      ],
      "source": [
        "auc_score_gbt = evaluator.evaluate(predictions_lsvc)\n",
        "auc_score_gbt"
      ]
    },
    {
      "cell_type": "code",
      "execution_count": null,
      "metadata": {
        "colab": {
          "base_uri": "https://localhost:8080/"
        },
        "id": "l7JbtJHnTERx",
        "outputId": "0883cba9-17ad-49b7-b7f8-a99ad93c0a69"
      },
      "outputs": [
        {
          "output_type": "stream",
          "name": "stdout",
          "text": [
            "Accuracy :  0.9302763196989204\n"
          ]
        }
      ],
      "source": [
        "accuracy_lsvc = predictions_lsvc.filter(predictions_lsvc.label == predictions_lsvc.prediction).count() / float(predictions_lsvc.count())\n",
        "print(\"Accuracy : \",accuracy_lsvc)"
      ]
    },
    {
      "cell_type": "markdown",
      "metadata": {
        "id": "JfgWRj_IUL_5"
      },
      "source": [
        "Factorization machines classifier\n"
      ]
    },
    {
      "cell_type": "code",
      "execution_count": null,
      "metadata": {
        "id": "2osUGKvEUK3y"
      },
      "outputs": [],
      "source": [
        "from pyspark.ml.classification import FMClassifier"
      ]
    },
    {
      "cell_type": "code",
      "execution_count": null,
      "metadata": {
        "id": "NJafbvTrUKui"
      },
      "outputs": [],
      "source": [
        "fm = FMClassifier(labelCol=\"label\", featuresCol=\"features\", stepSize=0.001)\n",
        "\n",
        "fm_model = fm.fit(train)"
      ]
    },
    {
      "cell_type": "code",
      "source": [
        "predictions_fm = fm_model.transform(test)\n",
        "predictions_fm.show(5)"
      ],
      "metadata": {
        "colab": {
          "base_uri": "https://localhost:8080/"
        },
        "id": "-RaPvv7JuJqJ",
        "outputId": "22d15f81-0b29-4794-fdf4-73aa2541275c"
      },
      "execution_count": null,
      "outputs": [
        {
          "output_type": "stream",
          "name": "stdout",
          "text": [
            "+-----+--------------------+--------------------+--------------------+----------+\n",
            "|label|            features|       rawPrediction|         probability|prediction|\n",
            "+-----+--------------------+--------------------+--------------------+----------+\n",
            "|    0|[-0.1371433560002...|[0.36990052992999...|[0.59143494273837...|       0.0|\n",
            "|    0|[-0.1092239692086...|[0.40592795530304...|[0.60011107818356...|       0.0|\n",
            "|    0|[-0.1083032864480...|[-0.6221855522889...|[0.34928454501701...|       1.0|\n",
            "|    0|[-0.1036650367439...|[0.04486402654030...|[0.51121412573335...|       0.0|\n",
            "|    0|[-0.1011851922911...|[0.36701528862993...|[0.59073757054558...|       0.0|\n",
            "+-----+--------------------+--------------------+--------------------+----------+\n",
            "only showing top 5 rows\n",
            "\n"
          ]
        }
      ]
    },
    {
      "cell_type": "code",
      "execution_count": null,
      "metadata": {
        "colab": {
          "base_uri": "https://localhost:8080/"
        },
        "outputId": "3a809f45-bbca-4aff-f902-60b4669e3f3e",
        "id": "G4D_OjQnuldd"
      },
      "outputs": [
        {
          "output_type": "execute_result",
          "data": {
            "text/plain": [
              "0.9081041108348261"
            ]
          },
          "metadata": {},
          "execution_count": 112
        }
      ],
      "source": [
        "auc_score_fm = evaluator.evaluate(predictions_fm)\n",
        "auc_score_fm"
      ]
    },
    {
      "cell_type": "code",
      "execution_count": null,
      "metadata": {
        "colab": {
          "base_uri": "https://localhost:8080/"
        },
        "outputId": "c3ecc6ac-665c-4025-ce6c-be5a4f5cad6e",
        "id": "vw-T7SdVulde"
      },
      "outputs": [
        {
          "output_type": "stream",
          "name": "stdout",
          "text": [
            "Accuracy :  0.7782014459740517\n"
          ]
        }
      ],
      "source": [
        "accuracy_fm = predictions_fm.filter(predictions_fm.label == predictions_fm.prediction).count() / float(predictions_fm.count())\n",
        "print(\"Accuracy : \",accuracy_fm)"
      ]
    },
    {
      "cell_type": "markdown",
      "metadata": {
        "id": "g-2nxcon8mVd"
      },
      "source": [
        "For Scrapped data"
      ]
    },
    {
      "cell_type": "code",
      "execution_count": null,
      "metadata": {
        "id": "_TDFWqXj8YfJ"
      },
      "outputs": [],
      "source": [
        "scrapped_dataframe = spark.read.csv('/content/drive/MyDrive/Project (1)/TwitterData.csv',inferSchema=True,header=True)"
      ]
    },
    {
      "cell_type": "code",
      "execution_count": null,
      "metadata": {
        "id": "bu_e0iix8gLr"
      },
      "outputs": [],
      "source": [
        "scrapped_dataframe.createOrReplaceTempView(\"dataframe\")"
      ]
    },
    {
      "cell_type": "code",
      "execution_count": null,
      "metadata": {
        "colab": {
          "base_uri": "https://localhost:8080/"
        },
        "id": "zRd51GstUiKf",
        "outputId": "deb3442e-70c8-4fac-bc3d-570681fa934d"
      },
      "outputs": [
        {
          "output_type": "stream",
          "name": "stdout",
          "text": [
            "+--------------------+--------------------+--------------------+\n",
            "|                 _c0|                Date|               Tweet|\n",
            "+--------------------+--------------------+--------------------+\n",
            "|                   0|2023-02-23 13:02:...|Rubina &amp; Fais...|\n",
            "|#RubinaDilaik #Ru...|                null|                null|\n",
            "|                   1|2023-02-23 13:02:...|Is Chicago ready ...|\n",
            "|                   2|2023-02-23 13:02:...|@__SeriousGemini ...|\n",
            "|                   3|2023-02-23 13:02:...|Really sad news a...|\n",
            "+--------------------+--------------------+--------------------+\n",
            "only showing top 5 rows\n",
            "\n"
          ]
        }
      ],
      "source": [
        "spark.sql(\"select * from dataframe\").show(5)"
      ]
    },
    {
      "cell_type": "code",
      "execution_count": null,
      "metadata": {
        "id": "1qOI6AXt8gqT"
      },
      "outputs": [],
      "source": [
        "output = spark.sql(\"select Tweet as features from dataframe\")"
      ]
    },
    {
      "cell_type": "code",
      "execution_count": null,
      "metadata": {
        "id": "p6PTvc7R_J1a"
      },
      "outputs": [],
      "source": [
        "output = output.withColumn('News_string', concat_ws(',', 'features'))\n",
        "output = output.drop('features')"
      ]
    },
    {
      "cell_type": "code",
      "execution_count": null,
      "metadata": {
        "id": "1HZCPb7j-pYT"
      },
      "outputs": [],
      "source": [
        "tokenizer = Tokenizer(inputCol=\"News_string\", outputCol=\"words\")\n",
        "output = tokenizer.transform(output)"
      ]
    },
    {
      "cell_type": "code",
      "execution_count": null,
      "metadata": {
        "id": "VIF3g-cTpSy9"
      },
      "outputs": [],
      "source": [
        "stop_words = StopWordsRemover(inputCol=\"words\", outputCol=\"filtered_words\")\n",
        "df = stop_words.transform(output)\n"
      ]
    },
    {
      "cell_type": "code",
      "execution_count": null,
      "metadata": {
        "colab": {
          "base_uri": "https://localhost:8080/"
        },
        "id": "-rMLAQgF-0PY",
        "outputId": "e6aa935f-a2bc-4fae-bd3a-101a5fa4f2d5"
      },
      "outputs": [
        {
          "output_type": "stream",
          "name": "stdout",
          "text": [
            "+-----------+-----+--------------+\n",
            "|News_string|words|filtered_words|\n",
            "+-----------+-----+--------------+\n",
            "+-----------+-----+--------------+\n",
            "\n"
          ]
        }
      ],
      "source": [
        "from pyspark.sql.functions import isnull\n",
        "\n",
        "df.filter(isnull('filtered_words')).show()"
      ]
    },
    {
      "cell_type": "code",
      "execution_count": null,
      "metadata": {
        "id": "FyYMUFAm8hBZ"
      },
      "outputs": [],
      "source": [
        "# word2Vec = Word2Vec(vectorSize=100, inputCol='filtered_words', outputCol='features')\n",
        "\n",
        "# model = word2Vec.fit(df)\n",
        "output = model.transform(df)"
      ]
    },
    {
      "cell_type": "code",
      "execution_count": null,
      "metadata": {
        "id": "0fr5CWRpANWN"
      },
      "outputs": [],
      "source": [
        "predictions_gbt = cvModel_lr.transform(output)\n",
        "predictions_gbt=predictions_gbt.drop('News_string')\n"
      ]
    },
    {
      "cell_type": "code",
      "execution_count": null,
      "metadata": {
        "id": "6XAZU186VW8G"
      },
      "outputs": [],
      "source": [
        "predictions_gbt.createOrReplaceTempView('predictions')"
      ]
    },
    {
      "cell_type": "code",
      "execution_count": null,
      "metadata": {
        "colab": {
          "base_uri": "https://localhost:8080/"
        },
        "id": "aUpI24FzVgiG",
        "outputId": "bc0c9774-7da1-4a0f-ee7a-b3369a281e9c"
      },
      "outputs": [
        {
          "output_type": "stream",
          "name": "stdout",
          "text": [
            "+-----+----------+\n",
            "|count|prediction|\n",
            "+-----+----------+\n",
            "| 8986|       0.0|\n",
            "|62981|       1.0|\n",
            "+-----+----------+\n",
            "\n"
          ]
        }
      ],
      "source": [
        "spark.sql(\"select count(prediction) as count , prediction from predictions group by prediction\").show()"
      ]
    },
    {
      "cell_type": "code",
      "execution_count": null,
      "metadata": {
        "colab": {
          "base_uri": "https://localhost:8080/",
          "height": 427
        },
        "id": "9l7nhJ58Vgbm",
        "outputId": "b2529838-d70d-4157-b5ea-df0bec5b7d30"
      },
      "outputs": [
        {
          "output_type": "display_data",
          "data": {
            "text/plain": [
              "<Figure size 720x504 with 1 Axes>"
            ],
            "image/png": "[encoded data removed]"
          },
          "metadata": {}
        }
      ],
      "source": [
        "numbers= spark.sql(\"select count(prediction) as count, prediction from predictions group by prediction\").to_pandas_on_spark()['count'].to_numpy()\n",
        "labels = ['True','False']\n",
        "fig = plt.figure(figsize =(10, 7))\n",
        "plt.pie(numbers,labels=labels,startangle=90, shadow=True,explode=(0.1, 0.1), autopct='%1.2f%%')\n",
        "plt.title('Output')\n",
        "plt.axis('equal')\n",
        "plt.show()"
      ]
    },
    {
      "cell_type": "code",
      "execution_count": null,
      "metadata": {
        "id": "Nvo5XkkQfQWn"
      },
      "outputs": [],
      "source": [
        "scrapped_dataframe = spark.read.csv('/content/drive/MyDrive/Project (1)/TwitterData.csv',inferSchema=True,header=True)"
      ]
    },
    {
      "cell_type": "markdown",
      "metadata": {
        "id": "cOdXxTJcp3C6"
      },
      "source": [
        "Function to predict total number of fake and true news in a dataset"
      ]
    },
    {
      "cell_type": "code",
      "execution_count": null,
      "metadata": {
        "id": "1s22ZbMwBPFZ"
      },
      "outputs": [],
      "source": [
        "def predict_scrapped_data(scrapped_dataframe):    \n",
        "  scrapped_dataframe.createOrReplaceTempView(\"dataframe\")\n",
        "  output = spark.sql(\"select Tweet as features from dataframe\")\n",
        "  output = output.withColumn('News_string', concat_ws(',', 'features'))\n",
        "  output = output.drop('features')\n",
        "  tokenizer = Tokenizer(inputCol=\"News_string\", outputCol=\"words\")\n",
        "  output = tokenizer.transform(output)\n",
        "  stop_words = StopWordsRemover(inputCol=\"words\", outputCol=\"filtered_words\")\n",
        "  output = stop_words.transform(output)\n",
        "  output = model.transform(output)\n",
        "  predictions = cvModel_lr.transform(output)\n",
        "  value = predictions.to_pandas_on_spark()['prediction'].to_numpy()\n",
        "  news = ['True','Fake']\n",
        "  fig = plt.figure(figsize =(10, 7))\n",
        "  plt.pie(numbers,labels=news, startangle=90, shadow=True,explode=(0.1, 0.1), autopct='%1.2f%%')\n",
        "  plt.title('Scrapped Data Distribution')\n",
        "  plt.axis('equal')\n",
        "  plt.show()"
      ]
    },
    {
      "cell_type": "code",
      "execution_count": null,
      "metadata": {
        "colab": {
          "base_uri": "https://localhost:8080/",
          "height": 427
        },
        "id": "FKBvkxf4fZQX",
        "outputId": "8858169a-f7fc-40c7-c8da-86b3cd00c6e3"
      },
      "outputs": [
        {
          "output_type": "display_data",
          "data": {
            "text/plain": [
              "<Figure size 720x504 with 1 Axes>"
            ],
            "image/png": "[encoded data removed]"
          },
          "metadata": {}
        }
      ],
      "source": [
        "predict_scrapped_data(scrapped_dataframe)"
      ]
    },
    {
      "cell_type": "markdown",
      "metadata": {
        "id": "e1k-pHi3px8C"
      },
      "source": [
        "Function to predict one news"
      ]
    },
    {
      "cell_type": "code",
      "execution_count": null,
      "metadata": {
        "id": "eXtvc-UgoUNc"
      },
      "outputs": [],
      "source": [
        "def predict_news():  \n",
        "  input_news = input(\"Enter the News to check : \")\n",
        "  new_dataframe  = spark.createDataFrame([(input_news,)], [\"features\"])\n",
        "  new_dataframe = new_dataframe.withColumn('News_string', concat_ws(',', 'features'))\n",
        "  new_dataframe = new_dataframe.drop('features')\n",
        "  tokenizer = Tokenizer(inputCol=\"News_string\", outputCol=\"words\")\n",
        "  new_dataframe = tokenizer.transform(new_dataframe)\n",
        "  stop_words = StopWordsRemover(inputCol=\"words\", outputCol=\"filtered_words\")\n",
        "  output = stop_words.transform(new_dataframe)\n",
        "  output = model.transform(output)\n",
        "  predictions = cvModel_lr.transform(output)\n",
        "  predictions=predictions.drop('rawPrediction','probability','News_string')\n",
        "  value = predictions.select(\"prediction\").collect()[0][0]\n",
        "  if value == 0:\n",
        "    print('True News')\n",
        "  elif value == 1:\n",
        "    print('Fake News')"
      ]
    },
    {
      "cell_type": "markdown",
      "metadata": {
        "id": "NoUA9Sonur2P"
      },
      "source": [
        "I have commented it as it will consistently ask for Input"
      ]
    },
    {
      "cell_type": "code",
      "execution_count": null,
      "metadata": {
        "id": "At76GG7K0MuD"
      },
      "outputs": [],
      "source": [
        "#predict_news()"
      ]
    },
    {
      "cell_type": "code",
      "execution_count": null,
      "metadata": {
        "id": "PTHyuxrt0MkD"
      },
      "outputs": [],
      "source": []
    },
    {
      "cell_type": "code",
      "execution_count": null,
      "metadata": {
        "id": "a7-OaAoLFUlI"
      },
      "outputs": [],
      "source": [
        "#cvModel_lr.save('/content/drive/MyDrive/Kaggle datasets/model')"
      ]
    },
    {
      "cell_type": "code",
      "execution_count": null,
      "metadata": {
        "id": "J9wbtpm8UCl5"
      },
      "outputs": [],
      "source": []
    },
    {
      "cell_type": "code",
      "execution_count": null,
      "metadata": {
        "id": "TF515HJRUCYR"
      },
      "outputs": [],
      "source": []
    },
    {
      "cell_type": "code",
      "execution_count": null,
      "metadata": {
        "id": "F-qyokGAUCK5"
      },
      "outputs": [],
      "source": []
    },
    {
      "cell_type": "code",
      "execution_count": null,
      "metadata": {
        "id": "P2jx5Rb5UCAJ"
      },
      "outputs": [],
      "source": []
    },
    {
      "cell_type": "code",
      "execution_count": null,
      "metadata": {
        "id": "anTdKtJlKKwI"
      },
      "outputs": [],
      "source": [
        "# from pyspark.ml.classification import GBTClassificationModel\n",
        "# from pyspark.ml.tuning import CrossValidator,CrossValidatorModel"
      ]
    },
    {
      "cell_type": "code",
      "execution_count": null,
      "metadata": {
        "id": "_GUKxg_tH7zp"
      },
      "outputs": [],
      "source": [
        "# loaded_model = CrossValidatorModel.load(\"/content/drive/MyDrive/Kaggle datasets/model\")"
      ]
    },
    {
      "cell_type": "code",
      "execution_count": null,
      "metadata": {
        "id": "DOTZoZlSJ51p"
      },
      "outputs": [],
      "source": [
        "# loaded_model.transform(test).createOrReplaceTempView(\"data\")"
      ]
    },
    {
      "cell_type": "code",
      "execution_count": null,
      "metadata": {
        "id": "LjWloZ-BMSga"
      },
      "outputs": [],
      "source": [
        "# spark.sql(\"select prediction,count(prediction) as count from data group by prediction\").show()"
      ]
    },
    {
      "cell_type": "code",
      "execution_count": null,
      "metadata": {
        "id": "ne2tY-TLQnKe"
      },
      "outputs": [],
      "source": [
        "#cvModel_lr.save('/content/drive/MyDrive/Project/lr_model')"
      ]
    },
    {
      "cell_type": "code",
      "execution_count": null,
      "metadata": {
        "id": "Uvfc25lfQnBW"
      },
      "outputs": [],
      "source": [
        "#cvModel_rf.save('/content/drive/MyDrive/Project/rf_model')"
      ]
    },
    {
      "cell_type": "code",
      "execution_count": null,
      "metadata": {
        "id": "1qcgWOiLQm19"
      },
      "outputs": [],
      "source": [
        "#cvModel_gbt.save('/content/drive/MyDrive/Project/gbt_model')"
      ]
    },
    {
      "cell_type": "code",
      "execution_count": null,
      "metadata": {
        "id": "vvtxr3evW3t9"
      },
      "outputs": [],
      "source": [
        "#lsvcModel.save('/content/drive/MyDrive/Project/lsvc_model')"
      ]
    },
    {
      "cell_type": "code",
      "execution_count": null,
      "metadata": {
        "id": "SHY6e_ZwR9Rd"
      },
      "outputs": [],
      "source": [
        "#model.save('/content/drive/MyDrive/Project/word2vec_model')"
      ]
    },
    {
      "cell_type": "code",
      "execution_count": null,
      "metadata": {
        "id": "4zo9TX9YWAWW"
      },
      "outputs": [],
      "source": [
        "#fm_model.save('/content/drive/MyDrive/Project/fm_model')"
      ]
    }
  ],
  "metadata": {
    "colab": {
      "provenance": []
    },
    "gpuClass": "standard",
    "kernelspec": {
      "display_name": "Python 3",
      "name": "python3"
    },
    "language_info": {
      "name": "python"
    }
  },
  "nbformat": 4,
  "nbformat_minor": 0
}